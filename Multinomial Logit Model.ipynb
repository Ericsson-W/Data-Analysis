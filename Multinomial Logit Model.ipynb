{
 "cells": [
  {
   "cell_type": "markdown",
   "id": "f607234d",
   "metadata": {},
   "source": [
    "# 01704926\n",
    "#### Ching Wai Wong"
   ]
  },
  {
   "cell_type": "markdown",
   "id": "1fca4828",
   "metadata": {},
   "source": [
    "# Part 1"
   ]
  },
  {
   "cell_type": "markdown",
   "id": "45e98a2b",
   "metadata": {},
   "source": [
    "### Task 1.2"
   ]
  },
  {
   "cell_type": "code",
   "execution_count": 1,
   "id": "ca0023b1",
   "metadata": {},
   "outputs": [
    {
     "name": "stderr",
     "output_type": "stream",
     "text": [
      "E:\\Program Files\\Python\\Anaconda\\lib\\site-packages\\scipy\\__init__.py:146: UserWarning: A NumPy version >=1.16.5 and <1.23.0 is required for this version of SciPy (detected version 1.23.5\n",
      "  warnings.warn(f\"A NumPy version >={np_minversion} and <{np_maxversion}\"\n"
     ]
    }
   ],
   "source": [
    "# Import functions\n",
    "import pandas as pd\n",
    "import math\n",
    "import numpy as np\n",
    "import matplotlib.pyplot as plt\n",
    "import biogeme.database as db\n",
    "import biogeme.biogeme as bio\n",
    "from biogeme import models\n",
    "from biogeme.expressions import Beta"
   ]
  },
  {
   "cell_type": "code",
   "execution_count": 2,
   "id": "1667f511",
   "metadata": {},
   "outputs": [
    {
     "name": "stdout",
     "output_type": "stream",
     "text": [
      "                  Value   Std err     t-test       p-value  Rob. Std err  \\\n",
      "ASC_Bus        1.717914  1.622235   1.058980  2.896090e-01      1.511191   \n",
      "ASC_Car       -0.043391  1.522791  -0.028495  9.772677e-01      1.453852   \n",
      "Beta_BS_Cost  -0.364411  0.161900  -2.250838  2.439581e-02      0.151314   \n",
      "Beta_BS_TT    -0.390686  0.033465 -11.674447  0.000000e+00      0.030233   \n",
      "Beta_Car_Cost -0.608668  0.101120  -6.019254  1.752227e-09      0.108857   \n",
      "Beta_Car_TT   -0.334013  0.021810 -15.314890  0.000000e+00      0.021676   \n",
      "Beta_bus_Cost -0.047841  0.145063  -0.329796  7.415538e-01      0.151534   \n",
      "Beta_bus_TT   -0.379742  0.026424 -14.371027  0.000000e+00      0.024839   \n",
      "\n",
      "               Rob. t-test  Rob. p-value  \n",
      "ASC_Bus           1.136794  2.556242e-01  \n",
      "ASC_Car          -0.029846  9.761901e-01  \n",
      "Beta_BS_Cost     -2.408303  1.602687e-02  \n",
      "Beta_BS_TT      -12.922327  0.000000e+00  \n",
      "Beta_Car_Cost    -5.591436  2.251990e-08  \n",
      "Beta_Car_TT     -15.409068  0.000000e+00  \n",
      "Beta_bus_Cost    -0.315714  7.522200e-01  \n",
      "Beta_bus_TT     -15.287840  0.000000e+00  \n"
     ]
    }
   ],
   "source": [
    "# import dataset from model_estiation_data\n",
    "df = pd.read_csv('model_estimation_data.dat', sep='\\t')\n",
    "database = db.Database('model_estimation_data', df)\n",
    "\n",
    "# import dataset from model_estiation_data\n",
    "df = pd.read_csv('model_estimation_data.dat', sep='\\t')\n",
    "database = db.Database('model_estimation_data', df)\n",
    "\n",
    "# The following statement allows you to use the names of the\n",
    "# variable as Python variable.\n",
    "globals().update(database.variables)\n",
    "\n",
    "# Parameters to be estimated\n",
    "ASC_Bus    = Beta('ASC_Bus',0,None,None,0)\n",
    "ASC_Bike   = Beta('ASC_Bike',0,None,None,1)\n",
    "ASC_Car    = Beta('ASC_Car',0,None,None,0)\n",
    "\n",
    "\n",
    "# Definition of new variables\n",
    "tot_cost_car = car_Cost + car_PCost\n",
    "\n",
    "# Similarly now, define new variables for total time for car and total time for bus\n",
    "tot_time_car = car_TT + car_PT\n",
    "tot_time_bus = bus_IVT + bus_TA + bus_WT\n",
    "\n",
    "# Bus Parameter\n",
    "Beta_bus_Cost  = Beta('Beta_bus_Cost',0,None,None,0)\n",
    "Beta_bus_TT = Beta('Beta_bus_TT',0,None,None,0)\n",
    "\n",
    "# BS Parameter\n",
    "Beta_BS_Cost = Beta('Beta_BS_Cost',0,None,None,0)\n",
    "Beta_BS_TT = Beta('Beta_BS_TT',0,None,None,0)\n",
    "\n",
    "# Car Parameter\n",
    "Beta_Car_TT = Beta('Beta_Car_TT',0,None,None,0)\n",
    "Beta_Car_Cost = Beta('Beta_Car_Cost',0,None,None,0)\n",
    "\n",
    "# Definition of the utility functions\n",
    "V1    =  ASC_Bus   +  Beta_bus_TT*tot_time_bus  + Beta_bus_Cost * bus_Cost\n",
    "V2    =  ASC_Bike  +  Beta_BS_TT * BS_TT         + Beta_BS_Cost * BS_Cost \n",
    "V3    =  ASC_Car   +  Beta_Car_TT *tot_time_car + Beta_Car_Cost * tot_cost_car\n",
    "\n",
    "# Associate utility functions with the numbering of alternatives\n",
    "V = {1: V1, 2: V2, 3: V3}\n",
    "\n",
    "# Associate the availability conditions with the alternatives\n",
    "Bus_AV = 1\n",
    "Bike_AV = 1\n",
    "Car_AV = 1\n",
    "\n",
    "av = {1: Bus_AV, 2: Bike_AV, 3: Car_AV}\n",
    "\n",
    "# Definition of the model. This is the contribution of each\n",
    "# observation to the log likelihood function.\n",
    "logprob = models.loglogit(V, av, Choice)\n",
    "\n",
    "# Create the Biogeme object\n",
    "biogeme = bio.BIOGEME(database, logprob)\n",
    "biogeme.modelName = 'Task1.2'  \n",
    "\n",
    "# Calculate the null log likelihood for reporting.\n",
    "biogeme.calculateNullLoglikelihood(av)\n",
    "\n",
    "# Estimate the parameters\n",
    "results = biogeme.estimate()\n",
    "\n",
    "# Get the results in a pandas table\n",
    "pandasResults = results.getEstimatedParameters(onlyRobust=False)\n",
    "print(pandasResults)"
   ]
  },
  {
   "cell_type": "markdown",
   "id": "c0a09f3f",
   "metadata": {},
   "source": [
    "### Task 1.3"
   ]
  },
  {
   "cell_type": "code",
   "execution_count": 3,
   "id": "a0769947",
   "metadata": {
    "scrolled": true
   },
   "outputs": [
    {
     "name": "stdout",
     "output_type": "stream",
     "text": [
      "                   Value   Std err     t-test       p-value  Rob. Std err  \\\n",
      "ASC_Bus        -2.721378  1.948336  -1.396771  1.624825e-01      1.807699   \n",
      "ASC_Car        -0.041925  1.662275  -0.025222  9.798782e-01      1.648370   \n",
      "Beta_BS_Cost   -0.482563  0.182630  -2.642304  8.234399e-03      0.171955   \n",
      "Beta_BS_TT     -0.460691  0.040059 -11.500353  0.000000e+00      0.033477   \n",
      "Beta_Car_Cost  -0.257370  0.142748  -1.802963  7.139406e-02      0.153938   \n",
      "Beta_Car_PCost -1.042329  0.155856  -6.687774  2.265899e-11      0.167897   \n",
      "Beta_Car_PT    -0.546035  0.069368  -7.871610  3.552714e-15      0.064012   \n",
      "Beta_Car_TT    -0.380804  0.026577 -14.328349  0.000000e+00      0.025747   \n",
      "Beta_bus_Cost  -0.162786  0.159423  -1.021099  3.072077e-01      0.159804   \n",
      "Beta_bus_IVT   -0.478033  0.035210 -13.576558  0.000000e+00      0.031949   \n",
      "Beta_bus_TA    -0.035395  0.063868  -0.554180  5.794555e-01      0.064349   \n",
      "Beta_bus_WT    -0.210006  0.065775  -3.192776  1.409123e-03      0.065942   \n",
      "\n",
      "                Rob. t-test  Rob. p-value  \n",
      "ASC_Bus           -1.505437  1.322117e-01  \n",
      "ASC_Car           -0.025434  9.797085e-01  \n",
      "Beta_BS_Cost      -2.806332  5.010909e-03  \n",
      "Beta_BS_TT       -13.761374  0.000000e+00  \n",
      "Beta_Car_Cost     -1.671907  9.454260e-02  \n",
      "Beta_Car_PCost    -6.208127  5.361989e-10  \n",
      "Beta_Car_PT       -8.530201  0.000000e+00  \n",
      "Beta_Car_TT      -14.790002  0.000000e+00  \n",
      "Beta_bus_Cost     -1.018662  3.083633e-01  \n",
      "Beta_bus_IVT     -14.962345  0.000000e+00  \n",
      "Beta_bus_TA       -0.550040  5.822919e-01  \n",
      "Beta_bus_WT       -3.184714  1.448971e-03  \n"
     ]
    }
   ],
   "source": [
    "# The following statement allows you to use the names of the\n",
    "# variable as Python variable.\n",
    "globals().update(database.variables)\n",
    "\n",
    "# Parameters to be estimated\n",
    "ASC_Bus    = Beta('ASC_Bus',0,None,None,0)\n",
    "ASC_Bike   = Beta('ASC_Bike',0,None,None,1)\n",
    "ASC_Car    = Beta('ASC_Car',0,None,None,0)\n",
    "\n",
    "# Bus Parameter\n",
    "Beta_bus_Cost  = Beta('Beta_bus_Cost',0,None,None,0)\n",
    "Beta_bus_IVT = Beta('Beta_bus_IVT',0,None,None,0)\n",
    "Beta_bus_TA = Beta('Beta_bus_TA',0,None,None,0)\n",
    "Beta_bus_WT = Beta('Beta_bus_WT',0,None,None,0)\n",
    "\n",
    "# BS Parameter\n",
    "Beta_BS_Cost = Beta('Beta_BS_Cost',0,None,None,0)\n",
    "Beta_BS_TT = Beta('Beta_BS_TT',0,None,None,0)\n",
    "\n",
    "# Car Parameter\n",
    "Beta_Car_TT = Beta('Beta_Car_TT',0,None,None,0)\n",
    "Beta_Car_PT = Beta('Beta_Car_PT',0,None,None,0)\n",
    "Beta_Car_Cost = Beta('Beta_Car_Cost',0,None,None,0)\n",
    "Beta_Car_PCost = Beta('Beta_Car_PCost',0,None,None,0)\n",
    "\n",
    "# Definition of the utility functions\n",
    "V1    =  ASC_Bus   +  Beta_bus_IVT * bus_IVT +  Beta_bus_TA * bus_TA +  Beta_bus_WT * bus_WT  + Beta_bus_Cost * bus_Cost\n",
    "V2    =  ASC_Bike  +  Beta_BS_TT * BS_TT         + Beta_BS_Cost * BS_Cost \n",
    "V3    =  ASC_Car   +  Beta_Car_TT * car_TT +  Beta_Car_PT * car_PT  + Beta_Car_Cost * car_Cost + Beta_Car_PCost * car_PCost \n",
    "\n",
    "# Associate utility functions with the numbering of alternatives\n",
    "V = {1: V1, 2: V2, 3: V3}\n",
    "\n",
    "# Associate the availability conditions with the alternatives\n",
    "Bus_AV = 1\n",
    "Bike_AV = 1\n",
    "Car_AV = 1\n",
    "\n",
    "av = {1: Bus_AV, 2: Bike_AV, 3: Car_AV}\n",
    "\n",
    "# Definition of the model. This is the contribution of each\n",
    "# observation to the log likelihood function.\n",
    "logprob = models.loglogit(V, av, Choice)\n",
    "\n",
    "# Create the Biogeme object\n",
    "biogeme = bio.BIOGEME(database, logprob)\n",
    "biogeme.modelName = 'Task 1.3'  \n",
    "\n",
    "# Calculate the null log likelihood for reporting.\n",
    "biogeme.calculateNullLoglikelihood(av)\n",
    "\n",
    "# Estimate the parameters\n",
    "results = biogeme.estimate()\n",
    "\n",
    "# Get the results in a pandas table\n",
    "pandasResults = results.getEstimatedParameters(onlyRobust=False)\n",
    "print(pandasResults)\n"
   ]
  },
  {
   "cell_type": "code",
   "execution_count": 4,
   "id": "c4581fbf",
   "metadata": {},
   "outputs": [
    {
     "name": "stdout",
     "output_type": "stream",
     "text": [
      "265 139 596\n"
     ]
    }
   ],
   "source": [
    "W1=sum(df.Choice==1)\n",
    "W2=sum(df.Choice==2)\n",
    "W3=sum(df.Choice==3)\n",
    "\n",
    "print(W1, W2, W3)"
   ]
  },
  {
   "cell_type": "markdown",
   "id": "e8b0afd4",
   "metadata": {},
   "source": [
    "### Task 1.4"
   ]
  },
  {
   "cell_type": "code",
   "execution_count": 5,
   "id": "e8ee4268",
   "metadata": {},
   "outputs": [],
   "source": [
    "# Sample enumeration\n",
    "# Beta\n",
    "ASC_Bus=pandasResults.at['ASC_Bus', 'Value']\n",
    "ASC_Car=pandasResults.at['ASC_Car', 'Value']\n",
    "ASC_Bike=0\n",
    "Beta_BS_Cost=pandasResults.at['Beta_BS_Cost', 'Value']  \n",
    "Beta_BS_TT=pandasResults.at['Beta_BS_TT', 'Value']     \n",
    "Beta_Car_Cost=pandasResults.at['Beta_Car_Cost', 'Value']  \n",
    "Beta_Car_PCost=pandasResults.at['Beta_Car_PCost', 'Value']\n",
    "Beta_Car_PT=pandasResults.at['Beta_Car_PT', 'Value']   \n",
    "Beta_Car_TT=pandasResults.at['Beta_Car_TT', 'Value']\n",
    "Beta_bus_Cost=pandasResults.at['Beta_bus_Cost', 'Value']  \n",
    "Beta_bus_IVT=pandasResults.at['Beta_bus_IVT', 'Value']  \n",
    "Beta_bus_TA=pandasResults.at['Beta_bus_TA', 'Value']   \n",
    "Beta_bus_WT=pandasResults.at['Beta_bus_WT', 'Value'] "
   ]
  },
  {
   "cell_type": "code",
   "execution_count": 6,
   "id": "fc751e14",
   "metadata": {},
   "outputs": [
    {
     "name": "stdout",
     "output_type": "stream",
     "text": [
      "0.26500168810248176 0.13900044974937964 0.5959978621481385\n"
     ]
    }
   ],
   "source": [
    "df['V1']=ASC_Bus+ Beta_bus_IVT*df['bus_IVT']+Beta_bus_TA * df['bus_TA'] +  Beta_bus_WT * df['bus_WT']  + Beta_bus_Cost * df['bus_Cost']\n",
    "df['V2']=Beta_BS_TT * df['BS_TT'] + Beta_BS_Cost * df['BS_Cost']\n",
    "df['V3']=ASC_Car +  Beta_Car_TT * df['car_TT'] +  Beta_Car_PT * df['car_PT']  + Beta_Car_Cost * df['car_Cost'] + Beta_Car_PCost * df['car_PCost'] \n",
    "df['P1 Sample_En']=np.exp(df['V1'])/(np.exp(df['V1'])+np.exp(df['V2'])+np.exp(df['V3']))\n",
    "df['P2 Sample_En']=np.exp(df['V2'])/(np.exp(df['V1'])+np.exp(df['V2'])+np.exp(df['V3']))\n",
    "df['P3 Sample_En']=np.exp(df['V3'])/(np.exp(df['V1'])+np.exp(df['V2'])+np.exp(df['V3']))\n",
    "W1_Sample_Enumeration=df['P1 Sample_En'].sum()/1000\n",
    "W2_Sample_Enumeration=df['P2 Sample_En'].sum()/1000\n",
    "W3_Sample_Enumeration=df['P3 Sample_En'].sum()/1000\n",
    "print(W1_Sample_Enumeration, W2_Sample_Enumeration, W3_Sample_Enumeration)\n"
   ]
  },
  {
   "cell_type": "code",
   "execution_count": 7,
   "id": "5e73b45a",
   "metadata": {},
   "outputs": [
    {
     "data": {
      "text/html": [
       "<div>\n",
       "<style scoped>\n",
       "    .dataframe tbody tr th:only-of-type {\n",
       "        vertical-align: middle;\n",
       "    }\n",
       "\n",
       "    .dataframe tbody tr th {\n",
       "        vertical-align: top;\n",
       "    }\n",
       "\n",
       "    .dataframe thead th {\n",
       "        text-align: right;\n",
       "    }\n",
       "</style>\n",
       "<table border=\"1\" class=\"dataframe\">\n",
       "  <thead>\n",
       "    <tr style=\"text-align: right;\">\n",
       "      <th></th>\n",
       "      <th>ID</th>\n",
       "      <th>bus_IVT</th>\n",
       "      <th>bus_TA</th>\n",
       "      <th>bus_WT</th>\n",
       "      <th>bus_Cost</th>\n",
       "      <th>BS_TT</th>\n",
       "      <th>BS_Cost</th>\n",
       "      <th>car_TT</th>\n",
       "      <th>car_PT</th>\n",
       "      <th>car_Cost</th>\n",
       "      <th>car_PCost</th>\n",
       "      <th>Choice</th>\n",
       "      <th>V1</th>\n",
       "      <th>V2</th>\n",
       "      <th>V3</th>\n",
       "      <th>P1 Sample_En</th>\n",
       "      <th>P2 Sample_En</th>\n",
       "      <th>P3 Sample_En</th>\n",
       "    </tr>\n",
       "  </thead>\n",
       "  <tbody>\n",
       "    <tr>\n",
       "      <th>0</th>\n",
       "      <td>1</td>\n",
       "      <td>20</td>\n",
       "      <td>10</td>\n",
       "      <td>15</td>\n",
       "      <td>6</td>\n",
       "      <td>50</td>\n",
       "      <td>1.5</td>\n",
       "      <td>45</td>\n",
       "      <td>2</td>\n",
       "      <td>4</td>\n",
       "      <td>5</td>\n",
       "      <td>1</td>\n",
       "      <td>-16.762792</td>\n",
       "      <td>-23.758395</td>\n",
       "      <td>-24.511313</td>\n",
       "      <td>9.986545e-01</td>\n",
       "      <td>0.000915</td>\n",
       "      <td>0.000431</td>\n",
       "    </tr>\n",
       "    <tr>\n",
       "      <th>1</th>\n",
       "      <td>2</td>\n",
       "      <td>30</td>\n",
       "      <td>5</td>\n",
       "      <td>10</td>\n",
       "      <td>4</td>\n",
       "      <td>60</td>\n",
       "      <td>3.5</td>\n",
       "      <td>35</td>\n",
       "      <td>2</td>\n",
       "      <td>4</td>\n",
       "      <td>5</td>\n",
       "      <td>3</td>\n",
       "      <td>-19.990545</td>\n",
       "      <td>-29.330432</td>\n",
       "      <td>-20.703270</td>\n",
       "      <td>6.709633e-01</td>\n",
       "      <td>0.000059</td>\n",
       "      <td>0.328978</td>\n",
       "    </tr>\n",
       "    <tr>\n",
       "      <th>2</th>\n",
       "      <td>3</td>\n",
       "      <td>20</td>\n",
       "      <td>5</td>\n",
       "      <td>10</td>\n",
       "      <td>4</td>\n",
       "      <td>40</td>\n",
       "      <td>1.5</td>\n",
       "      <td>15</td>\n",
       "      <td>8</td>\n",
       "      <td>4</td>\n",
       "      <td>5</td>\n",
       "      <td>1</td>\n",
       "      <td>-15.210216</td>\n",
       "      <td>-19.151485</td>\n",
       "      <td>-16.363392</td>\n",
       "      <td>7.490322e-01</td>\n",
       "      <td>0.014549</td>\n",
       "      <td>0.236419</td>\n",
       "    </tr>\n",
       "    <tr>\n",
       "      <th>3</th>\n",
       "      <td>4</td>\n",
       "      <td>30</td>\n",
       "      <td>5</td>\n",
       "      <td>10</td>\n",
       "      <td>6</td>\n",
       "      <td>50</td>\n",
       "      <td>1.5</td>\n",
       "      <td>45</td>\n",
       "      <td>2</td>\n",
       "      <td>2</td>\n",
       "      <td>5</td>\n",
       "      <td>1</td>\n",
       "      <td>-20.316118</td>\n",
       "      <td>-23.758395</td>\n",
       "      <td>-23.996574</td>\n",
       "      <td>9.458919e-01</td>\n",
       "      <td>0.030261</td>\n",
       "      <td>0.023847</td>\n",
       "    </tr>\n",
       "    <tr>\n",
       "      <th>4</th>\n",
       "      <td>5</td>\n",
       "      <td>40</td>\n",
       "      <td>10</td>\n",
       "      <td>10</td>\n",
       "      <td>6</td>\n",
       "      <td>40</td>\n",
       "      <td>1.5</td>\n",
       "      <td>35</td>\n",
       "      <td>2</td>\n",
       "      <td>2</td>\n",
       "      <td>5</td>\n",
       "      <td>2</td>\n",
       "      <td>-25.273420</td>\n",
       "      <td>-19.151485</td>\n",
       "      <td>-20.188530</td>\n",
       "      <td>1.617317e-03</td>\n",
       "      <td>0.737085</td>\n",
       "      <td>0.261297</td>\n",
       "    </tr>\n",
       "    <tr>\n",
       "      <th>...</th>\n",
       "      <td>...</td>\n",
       "      <td>...</td>\n",
       "      <td>...</td>\n",
       "      <td>...</td>\n",
       "      <td>...</td>\n",
       "      <td>...</td>\n",
       "      <td>...</td>\n",
       "      <td>...</td>\n",
       "      <td>...</td>\n",
       "      <td>...</td>\n",
       "      <td>...</td>\n",
       "      <td>...</td>\n",
       "      <td>...</td>\n",
       "      <td>...</td>\n",
       "      <td>...</td>\n",
       "      <td>...</td>\n",
       "      <td>...</td>\n",
       "      <td>...</td>\n",
       "    </tr>\n",
       "    <tr>\n",
       "      <th>995</th>\n",
       "      <td>996</td>\n",
       "      <td>30</td>\n",
       "      <td>5</td>\n",
       "      <td>10</td>\n",
       "      <td>4</td>\n",
       "      <td>50</td>\n",
       "      <td>3.5</td>\n",
       "      <td>15</td>\n",
       "      <td>5</td>\n",
       "      <td>2</td>\n",
       "      <td>3</td>\n",
       "      <td>3</td>\n",
       "      <td>-19.990545</td>\n",
       "      <td>-24.723522</td>\n",
       "      <td>-12.125891</td>\n",
       "      <td>3.839333e-04</td>\n",
       "      <td>0.000003</td>\n",
       "      <td>0.999613</td>\n",
       "    </tr>\n",
       "    <tr>\n",
       "      <th>996</th>\n",
       "      <td>997</td>\n",
       "      <td>20</td>\n",
       "      <td>5</td>\n",
       "      <td>10</td>\n",
       "      <td>6</td>\n",
       "      <td>60</td>\n",
       "      <td>1.5</td>\n",
       "      <td>35</td>\n",
       "      <td>2</td>\n",
       "      <td>2</td>\n",
       "      <td>3</td>\n",
       "      <td>1</td>\n",
       "      <td>-15.535788</td>\n",
       "      <td>-28.365305</td>\n",
       "      <td>-18.103873</td>\n",
       "      <td>9.287768e-01</td>\n",
       "      <td>0.000002</td>\n",
       "      <td>0.071221</td>\n",
       "    </tr>\n",
       "    <tr>\n",
       "      <th>997</th>\n",
       "      <td>998</td>\n",
       "      <td>50</td>\n",
       "      <td>5</td>\n",
       "      <td>10</td>\n",
       "      <td>6</td>\n",
       "      <td>50</td>\n",
       "      <td>1.5</td>\n",
       "      <td>15</td>\n",
       "      <td>2</td>\n",
       "      <td>4</td>\n",
       "      <td>5</td>\n",
       "      <td>3</td>\n",
       "      <td>-29.876776</td>\n",
       "      <td>-23.758395</td>\n",
       "      <td>-13.087182</td>\n",
       "      <td>5.109306e-08</td>\n",
       "      <td>0.000023</td>\n",
       "      <td>0.999977</td>\n",
       "    </tr>\n",
       "    <tr>\n",
       "      <th>998</th>\n",
       "      <td>999</td>\n",
       "      <td>30</td>\n",
       "      <td>10</td>\n",
       "      <td>15</td>\n",
       "      <td>4</td>\n",
       "      <td>40</td>\n",
       "      <td>1.5</td>\n",
       "      <td>45</td>\n",
       "      <td>5</td>\n",
       "      <td>4</td>\n",
       "      <td>3</td>\n",
       "      <td>2</td>\n",
       "      <td>-21.217549</td>\n",
       "      <td>-19.151485</td>\n",
       "      <td>-24.064761</td>\n",
       "      <td>1.117107e-01</td>\n",
       "      <td>0.881809</td>\n",
       "      <td>0.006480</td>\n",
       "    </tr>\n",
       "    <tr>\n",
       "      <th>999</th>\n",
       "      <td>1000</td>\n",
       "      <td>50</td>\n",
       "      <td>5</td>\n",
       "      <td>15</td>\n",
       "      <td>4</td>\n",
       "      <td>40</td>\n",
       "      <td>1.5</td>\n",
       "      <td>15</td>\n",
       "      <td>8</td>\n",
       "      <td>4</td>\n",
       "      <td>3</td>\n",
       "      <td>3</td>\n",
       "      <td>-30.601234</td>\n",
       "      <td>-19.151485</td>\n",
       "      <td>-14.278735</td>\n",
       "      <td>8.089432e-08</td>\n",
       "      <td>0.007594</td>\n",
       "      <td>0.992406</td>\n",
       "    </tr>\n",
       "  </tbody>\n",
       "</table>\n",
       "<p>1000 rows × 18 columns</p>\n",
       "</div>"
      ],
      "text/plain": [
       "       ID  bus_IVT  bus_TA  bus_WT  bus_Cost  BS_TT  BS_Cost  car_TT  car_PT  \\\n",
       "0       1       20      10      15         6     50      1.5      45       2   \n",
       "1       2       30       5      10         4     60      3.5      35       2   \n",
       "2       3       20       5      10         4     40      1.5      15       8   \n",
       "3       4       30       5      10         6     50      1.5      45       2   \n",
       "4       5       40      10      10         6     40      1.5      35       2   \n",
       "..    ...      ...     ...     ...       ...    ...      ...     ...     ...   \n",
       "995   996       30       5      10         4     50      3.5      15       5   \n",
       "996   997       20       5      10         6     60      1.5      35       2   \n",
       "997   998       50       5      10         6     50      1.5      15       2   \n",
       "998   999       30      10      15         4     40      1.5      45       5   \n",
       "999  1000       50       5      15         4     40      1.5      15       8   \n",
       "\n",
       "     car_Cost  car_PCost  Choice         V1         V2         V3  \\\n",
       "0           4          5       1 -16.762792 -23.758395 -24.511313   \n",
       "1           4          5       3 -19.990545 -29.330432 -20.703270   \n",
       "2           4          5       1 -15.210216 -19.151485 -16.363392   \n",
       "3           2          5       1 -20.316118 -23.758395 -23.996574   \n",
       "4           2          5       2 -25.273420 -19.151485 -20.188530   \n",
       "..        ...        ...     ...        ...        ...        ...   \n",
       "995         2          3       3 -19.990545 -24.723522 -12.125891   \n",
       "996         2          3       1 -15.535788 -28.365305 -18.103873   \n",
       "997         4          5       3 -29.876776 -23.758395 -13.087182   \n",
       "998         4          3       2 -21.217549 -19.151485 -24.064761   \n",
       "999         4          3       3 -30.601234 -19.151485 -14.278735   \n",
       "\n",
       "     P1 Sample_En  P2 Sample_En  P3 Sample_En  \n",
       "0    9.986545e-01      0.000915      0.000431  \n",
       "1    6.709633e-01      0.000059      0.328978  \n",
       "2    7.490322e-01      0.014549      0.236419  \n",
       "3    9.458919e-01      0.030261      0.023847  \n",
       "4    1.617317e-03      0.737085      0.261297  \n",
       "..            ...           ...           ...  \n",
       "995  3.839333e-04      0.000003      0.999613  \n",
       "996  9.287768e-01      0.000002      0.071221  \n",
       "997  5.109306e-08      0.000023      0.999977  \n",
       "998  1.117107e-01      0.881809      0.006480  \n",
       "999  8.089432e-08      0.007594      0.992406  \n",
       "\n",
       "[1000 rows x 18 columns]"
      ]
     },
     "execution_count": 7,
     "metadata": {},
     "output_type": "execute_result"
    }
   ],
   "source": [
    "df"
   ]
  },
  {
   "cell_type": "code",
   "execution_count": 8,
   "id": "9d99bf73",
   "metadata": {},
   "outputs": [
    {
     "name": "stdout",
     "output_type": "stream",
     "text": [
      "0.01524770011519379 0.0051972966236176225 0.9795550032611885\n"
     ]
    }
   ],
   "source": [
    "# Average Individual Approach\n",
    "V_Bus=ASC_Bus+Beta_bus_IVT*np.average(df['bus_IVT'])+Beta_bus_TA * np.average(df['bus_TA']) +  Beta_bus_WT * np.average(df['bus_WT'])  + Beta_bus_Cost * np.average(df['bus_Cost'])\n",
    "V_Bike=Beta_BS_TT * np.average(df['BS_TT']) + Beta_BS_Cost * np.average(df['BS_Cost'])\n",
    "V_Car=ASC_Car +  Beta_Car_TT * np.average(df['car_TT']) +  Beta_Car_PT * np.average(df['car_PT'])  + Beta_Car_Cost * np.average(df['car_Cost']) + Beta_Car_PCost * np.average(df['car_PCost'])\n",
    "\n",
    "W1_Avg_Ind=np.exp(V_Bus)/(np.exp(V_Bus)+np.exp(V_Bike)+np.exp(V_Car))\n",
    "W2_Avg_Ind=np.exp(V_Bike)/(np.exp(V_Bus)+np.exp(V_Bike)+np.exp(V_Car))\n",
    "W3_Avg_Ind=np.exp(V_Car)/(np.exp(V_Bus)+np.exp(V_Bike)+np.exp(V_Car))\n",
    "\n",
    "print(W1_Avg_Ind, W2_Avg_Ind, W3_Avg_Ind)"
   ]
  },
  {
   "cell_type": "code",
   "execution_count": 9,
   "id": "c25cb187",
   "metadata": {},
   "outputs": [
    {
     "data": {
      "text/plain": [
       "-0.00035869997674964723"
      ]
     },
     "execution_count": 9,
     "metadata": {},
     "output_type": "execute_result"
    }
   ],
   "source": [
    "(W3_Sample_Enumeration-W3/1000)/(W3/1000)*100"
   ]
  },
  {
   "cell_type": "markdown",
   "id": "83746ff3",
   "metadata": {},
   "source": [
    "# Task 2"
   ]
  },
  {
   "cell_type": "markdown",
   "id": "de77dfed",
   "metadata": {},
   "source": [
    "### Task 2.1"
   ]
  },
  {
   "cell_type": "code",
   "execution_count": 10,
   "id": "5ae94930",
   "metadata": {},
   "outputs": [
    {
     "name": "stdout",
     "output_type": "stream",
     "text": [
      "-17.238151488835328 -17.330593327997445 -16.637856172762145\n",
      "0.26778355864099224 0.24413886885257438 0.48807757250643347\n"
     ]
    }
   ],
   "source": [
    "IVTT_bus = 25\n",
    "AT_bus=5\n",
    "WT_bus=7.5\n",
    "C_bus=5\n",
    "TT_Car=25\n",
    "PT_Car=2\n",
    "TC_Car=3\n",
    "PC_Car=5\n",
    "TT_Bike=35\n",
    "C_Bike=2.5\n",
    "\n",
    "V_Bus=ASC_Bus+Beta_bus_IVT*IVTT_bus+Beta_bus_TA *AT_bus +  Beta_bus_WT * WT_bus  + Beta_bus_Cost *C_bus\n",
    "V_Bike=Beta_BS_TT * TT_Bike + Beta_BS_Cost * C_Bike\n",
    "V_Car=ASC_Car +  Beta_Car_TT * TT_Car +  Beta_Car_PT * PT_Car  + Beta_Car_Cost * TC_Car + Beta_Car_PCost * PC_Car\n",
    "\n",
    "# Market Share\n",
    "P1_2_4 = np.exp(V_Bus)/(np.exp(V_Bus)+np.exp(V_Bike)+np.exp(V_Car))\n",
    "P2_2_4 = np.exp(V_Bike)/(np.exp(V_Bus)+np.exp(V_Bike)+np.exp(V_Car))\n",
    "P3_2_4 = np.exp(V_Car)/(np.exp(V_Bus)+np.exp(V_Bike)+np.exp(V_Car))\n",
    "\n",
    "\n",
    "print(V_Bus, V_Bike, V_Car)\n",
    "print(P1_2_4, P2_2_4, P3_2_4)"
   ]
  },
  {
   "cell_type": "code",
   "execution_count": 11,
   "id": "240fa398",
   "metadata": {},
   "outputs": [
    {
     "name": "stdout",
     "output_type": "stream",
     "text": [
      "-16.713136304609566\n",
      "0.38204389105740827 0.20604167964020353 0.41191442930238825\n"
     ]
    }
   ],
   "source": [
    "WT_bus=5\n",
    "\n",
    "V_Bus=ASC_Bus+Beta_bus_IVT*IVTT_bus+Beta_bus_TA *AT_bus +  Beta_bus_WT * WT_bus  + Beta_bus_Cost *C_bus\n",
    "\n",
    "# Market Share\n",
    "P1_2_6 = np.exp(V_Bus)/(np.exp(V_Bus)+np.exp(V_Bike)+np.exp(V_Car))\n",
    "P2_2_6 = np.exp(V_Bike)/(np.exp(V_Bus)+np.exp(V_Bike)+np.exp(V_Car))\n",
    "P3_2_6 = np.exp(V_Car)/(np.exp(V_Bus)+np.exp(V_Bike)+np.exp(V_Car))\n",
    "\n",
    "print(V_Bus)\n",
    "print(P1_2_6, P2_2_6, P3_2_6)"
   ]
  },
  {
   "cell_type": "markdown",
   "id": "8a572a38",
   "metadata": {},
   "source": [
    "### Task 2.2"
   ]
  },
  {
   "cell_type": "code",
   "execution_count": 12,
   "id": "77d5c809",
   "metadata": {},
   "outputs": [
    {
     "data": {
      "text/plain": [
       "Text(0, 0.5, 'Market share')"
      ]
     },
     "execution_count": 12,
     "metadata": {},
     "output_type": "execute_result"
    },
    {
     "data": {
      "image/png": "[encoded data removed]",
      "text/plain": [
       "<Figure size 432x288 with 1 Axes>"
      ]
     },
     "metadata": {
      "needs_background": "light"
     },
     "output_type": "display_data"
    }
   ],
   "source": [
    "fares= list(range(11))\n",
    "\n",
    "p1_f=[]\n",
    "p2_f=[]\n",
    "p3_f=[]\n",
    "V_f=[]\n",
    "\n",
    "\n",
    "# find market share for each bus fare\n",
    "for i in fares:\n",
    "    k=ASC_Bus+Beta_bus_IVT*IVTT_bus+Beta_bus_TA *AT_bus +  Beta_bus_WT * WT_bus  + Beta_bus_Cost *i\n",
    "    V_f.append(k)\n",
    "    \n",
    "    p1_f.append(np.exp(k)/(np.exp(k)+np.exp(V_Bike)+np.exp(V_Car)))\n",
    "    p2_f.append(np.exp(V_Bike)/(np.exp(k)+np.exp(V_Bike)+np.exp(V_Car)))\n",
    "    p3_f.append(np.exp(V_Car)/(np.exp(k)+np.exp(V_Bike)+np.exp(V_Car)))\n",
    "\n",
    "    \n",
    "plt.plot(fares,p1_f,label = 'Bus MS')\n",
    "plt.plot(fares,p2_f,label = 'Bike MS')\n",
    "plt.plot(fares,p3_f,label = 'Car MS')\n",
    "\n",
    "plt.legend()\n",
    "plt.title('Market share for different modes against bus fare')\n",
    "plt.xlabel('Bus fare £')\n",
    "plt.ylabel('Market share')"
   ]
  },
  {
   "cell_type": "markdown",
   "id": "a81c97c3",
   "metadata": {},
   "source": [
    "# Task 3"
   ]
  },
  {
   "cell_type": "markdown",
   "id": "778745f1",
   "metadata": {},
   "source": [
    "### Task3.1"
   ]
  },
  {
   "cell_type": "code",
   "execution_count": 13,
   "id": "6fade610",
   "metadata": {},
   "outputs": [
    {
     "name": "stdout",
     "output_type": "stream",
     "text": [
      "-17.238151488835328 -17.330593327997445 -16.637856172762145\n",
      "-97.80050234032491\n"
     ]
    }
   ],
   "source": [
    "miu = -Beta_bus_Cost\n",
    "WT_bus=7.5\n",
    "# fare = 5 GBP\n",
    "V_Bus=ASC_Bus+Beta_bus_IVT*IVTT_bus+Beta_bus_TA *AT_bus +  Beta_bus_WT * WT_bus  + Beta_bus_Cost *C_bus\n",
    "print(V_Bus,V_Bike,V_Car)\n",
    "\n",
    "# Baseline\n",
    "C_base = 1/miu * np.log(np.exp(V_Bus) + np.exp(V_Bike) + np.exp(V_Car))\n",
    "print(C_base)\n",
    "\n",
    "EC_4=[]\n",
    "DeltaEC_4=[]\n",
    "EC_6=[]  \n",
    "DeltaEC_6=[]"
   ]
  },
  {
   "cell_type": "code",
   "execution_count": 14,
   "id": "c5a62002",
   "metadata": {},
   "outputs": [
    {
     "name": "stdout",
     "output_type": "stream",
     "text": [
      "-16.424220329685742\n",
      "-16.587006561515658\n",
      "-16.749792793345577\n",
      "-16.912579025175493\n",
      "-17.075365257005412\n",
      "-17.238151488835328\n",
      "-17.400937720665247\n",
      "-17.563723952495163\n",
      "-17.726510184325083\n",
      "-17.889296416155\n",
      "-18.052082647984918\n"
     ]
    }
   ],
   "source": [
    "# Expected utility\n",
    "for x in fares:\n",
    "    V_Bus_4=ASC_Bus+Beta_bus_IVT*IVTT_bus+Beta_bus_TA *AT_bus +  Beta_bus_WT * WT_bus  + Beta_bus_Cost *x\n",
    "    ec_4 = 1/miu*np.log(np.exp(V_Bus_4) + np.exp(V_Bike) + np.exp(V_Car))\n",
    "    EC_4.append(ec_4)\n",
    "    DeltaEC_4.append(ec_4-C_base)\n",
    "    \n",
    "    \n",
    "    print(V_Bus_4)"
   ]
  },
  {
   "cell_type": "code",
   "execution_count": 15,
   "id": "2a70e804",
   "metadata": {
    "scrolled": true
   },
   "outputs": [
    {
     "name": "stdout",
     "output_type": "stream",
     "text": [
      "-15.899205145459979\n",
      "-16.061991377289896\n",
      "-16.224777609119812\n",
      "-16.38756384094973\n",
      "-16.550350072779647\n",
      "-16.713136304609566\n",
      "-16.875922536439482\n",
      "-17.0387087682694\n",
      "-17.201495000099317\n",
      "-17.364281231929237\n",
      "-17.527067463759153\n"
     ]
    }
   ],
   "source": [
    "WT_bus=5\n",
    "for x in fares:\n",
    "    V_Bus_6=ASC_Bus+Beta_bus_IVT*IVTT_bus+Beta_bus_TA *AT_bus +  Beta_bus_WT * WT_bus  + Beta_bus_Cost *x\n",
    "    ec_6 = 1/miu*np.log(np.exp(V_Bus_6) + np.exp(V_Bike) + np.exp(V_Car))\n",
    "    EC_6.append(ec_6)\n",
    "    DeltaEC_6.append(ec_6-C_base)\n",
    "    \n",
    "    print(V_Bus_6)"
   ]
  },
  {
   "cell_type": "code",
   "execution_count": 16,
   "id": "796566de",
   "metadata": {},
   "outputs": [
    {
     "data": {
      "text/plain": [
       "[-96.018506500109,\n",
       " -96.4506259133967,\n",
       " -96.84334225456172,\n",
       " -97.19800387880792,\n",
       " -97.5163643414385,\n",
       " -97.80050234032491,\n",
       " -98.05273439735186,\n",
       " -98.27552726432502,\n",
       " -98.47141593525328,\n",
       " -98.64293155291966,\n",
       " -98.79254176026086]"
      ]
     },
     "execution_count": 16,
     "metadata": {},
     "output_type": "execute_result"
    }
   ],
   "source": [
    "EC_4"
   ]
  },
  {
   "cell_type": "code",
   "execution_count": 17,
   "id": "0fc9e037",
   "metadata": {},
   "outputs": [
    {
     "data": {
      "text/plain": [
       "[1781.9958402159132,\n",
       " 1349.8764269282049,\n",
       " 957.1600857631921,\n",
       " 602.498461516987,\n",
       " 284.1379988864077,\n",
       " 0.0,\n",
       " -252.2320570269443,\n",
       " -475.02492400010965,\n",
       " -670.9135949283649,\n",
       " -842.4292125947517,\n",
       " -992.0394199359492]"
      ]
     },
     "execution_count": 17,
     "metadata": {},
     "output_type": "execute_result"
    }
   ],
   "source": [
    "DeltaEC_4_Pop = [i * 1000 for i in DeltaEC_4]\n",
    "DeltaEC_4_Pop"
   ]
  },
  {
   "cell_type": "code",
   "execution_count": 18,
   "id": "039f3fe4",
   "metadata": {},
   "outputs": [
    {
     "data": {
      "text/plain": [
       "[-94.34938565252354,\n",
       " -94.9119357488422,\n",
       " -95.4341263819815,\n",
       " -95.91566587887942,\n",
       " -96.35679703012615,\n",
       " -96.75828446073173,\n",
       " -97.1213755865884,\n",
       " -97.44773929888552,\n",
       " -97.73938855359786,\n",
       " -97.99859405353494,\n",
       " -98.227796153564]"
      ]
     },
     "execution_count": 18,
     "metadata": {},
     "output_type": "execute_result"
    }
   ],
   "source": [
    "EC_6"
   ]
  },
  {
   "cell_type": "markdown",
   "id": "e39bf3b0",
   "metadata": {},
   "source": [
    "###### "
   ]
  },
  {
   "cell_type": "code",
   "execution_count": 19,
   "id": "6d16172c",
   "metadata": {},
   "outputs": [
    {
     "data": {
      "text/plain": [
       "[3451.1166878013737,\n",
       " 2888.566591482714,\n",
       " 2366.375958343411,\n",
       " 1884.836461445488,\n",
       " 1443.7053101987658,\n",
       " 1042.2178795931814,\n",
       " 679.1267537365115,\n",
       " 352.7630414393883,\n",
       " 61.11378672704859,\n",
       " -198.09171321003305,\n",
       " -427.2938132390891]"
      ]
     },
     "execution_count": 19,
     "metadata": {},
     "output_type": "execute_result"
    }
   ],
   "source": [
    "DeltaEC_6_Pop = [i * 1000 for i in DeltaEC_6]\n",
    "DeltaEC_6_Pop"
   ]
  },
  {
   "cell_type": "markdown",
   "id": "f8df3a5b",
   "metadata": {},
   "source": [
    "### Task 3.2"
   ]
  },
  {
   "cell_type": "code",
   "execution_count": 20,
   "id": "f2d1e70a",
   "metadata": {},
   "outputs": [],
   "source": [
    "P_Bus_No_Congestion=[]\n",
    "P_Car_No_Congestion=[]\n",
    "P_Bike_No_Congestion=[]\n",
    "\n",
    "V_Bike=Beta_BS_TT * TT_Bike + Beta_BS_Cost * C_Bike\n",
    "V_Car=ASC_Car +  Beta_Car_TT * TT_Car +  Beta_Car_PT * PT_Car  + Beta_Car_Cost * TC_Car + Beta_Car_PCost * PC_Car\n",
    "\n",
    "fares=list(range(10))\n",
    "for x in fares:\n",
    "    V_Bus=ASC_Bus+Beta_bus_IVT*IVTT_bus+Beta_bus_TA *AT_bus +  Beta_bus_WT * WT_bus  + Beta_bus_Cost *x\n",
    "    \n",
    "    P_Bus = (np.exp(V_Bus)/(np.exp(V_Bus)+np.exp(V_Bike)+np.exp(V_Car)))\n",
    "    P_Bus_No_Congestion.append(P_Bus)\n",
    "    P_Bike = (np.exp(V_Bike)/(np.exp(V_Bus)+np.exp(V_Bike)+np.exp(V_Car)))\n",
    "    P_Bike_No_Congestion.append(P_Bike)\n",
    "    P_Car = (np.exp(V_Car)/(np.exp(V_Bus)+np.exp(V_Bike)+np.exp(V_Car)))\n",
    "    P_Car_No_Congestion.append(P_Car)\n"
   ]
  },
  {
   "cell_type": "code",
   "execution_count": 21,
   "id": "0eddaa76",
   "metadata": {},
   "outputs": [],
   "source": [
    "#4 buses per hour\n",
    "IVTT_bus = 25\n",
    "AT_bus=5\n",
    "WT_bus=7.5 #freq =4\n",
    "TT_Car=25\n",
    "PT_Car=2\n",
    "TC_Car=3\n",
    "PC_Car=5\n",
    "TT_Bike=35\n",
    "C_Bike=2.5\n",
    "\n",
    "tf0=1/3\n",
    "K=200\n",
    "#initialise the market share of cars, bike and buses no congestion\n",
    "\n",
    "P_Bus_No_Congestion=[]\n",
    "P_Car_No_Congestion=[]\n",
    "P_Bike_No_Congestion=[]\n",
    "\n",
    "fares=list(range(11))\n",
    "\n",
    "\n",
    "for x in fares:\n",
    "    V_Bus=ASC_Bus+Beta_bus_IVT*IVTT_bus+Beta_bus_TA *AT_bus +  Beta_bus_WT * WT_bus  + Beta_bus_Cost *x\n",
    "    \n",
    "    P_Bus = (np.exp(V_Bus)/(np.exp(V_Bus)+np.exp(V_Bike)+np.exp(V_Car)))\n",
    "    P_Bus_No_Congestion.append(P_Bus)\n",
    "    P_Bike = (np.exp(V_Bike)/(np.exp(V_Bus)+np.exp(V_Bike)+np.exp(V_Car)))\n",
    "    P_Bike_No_Congestion.append(P_Bike)\n",
    "    P_Car = (np.exp(V_Car)/(np.exp(V_Bus)+np.exp(V_Bike)+np.exp(V_Car)))\n",
    "    P_Car_No_Congestion.append(P_Car)\n",
    "\n",
    "It_Count_4=[]\n",
    "TT_4=[]\n",
    "Vflow4_final=[]\n",
    "C_4_final=[]\n",
    "P_Car_Congestion_final=[]\n",
    "\n",
    "\n",
    "\n",
    "for k in fares:\n",
    "    #intialise the vflow\n",
    "    Vflow4=[]\n",
    "    Vflow4.append(P_Car_No_Congestion[k]*1000)\n",
    "\n",
    "    TTv_4=[0]\n",
    "    Delta_C_4=[]\n",
    "    P_Car_Congestion=[]\n",
    "    C_4=[]\n",
    "    Delta_4=[] \n",
    "\n",
    "\n",
    "    \n",
    "    V_Bus_4=ASC_Bus+Beta_bus_IVT*IVTT_bus+Beta_bus_TA *AT_bus +  Beta_bus_WT * WT_bus  + Beta_bus_Cost *k\n",
    "    V_Bike_4= Beta_BS_TT * TT_Bike + Beta_BS_Cost * C_Bike\n",
    "\n",
    "\n",
    "    for i in range(1000):\n",
    "        \n",
    "        TTv_4_new=tf0*(1+0.15*(Vflow4[-1]/K)**4)*60\n",
    "        TTv_4.append(TTv_4_new) \n",
    "\n",
    "        V_Car_4=ASC_Car +  Beta_Car_TT * TTv_4[-1] +  Beta_Car_PT * PT_Car  + Beta_Car_Cost * TC_Car + Beta_Car_PCost * PC_Car\n",
    "\n",
    "\n",
    "        P_Bus_Congestion = np.exp(V_Bus_4)/(np.exp(V_Bus_4) + np.exp(V_Bike_4) + np.exp(V_Car_4))\n",
    "        P_Bike_Congestion = np.exp(V_Bike_4)/(np.exp(V_Bus_4) + np.exp(V_Bike_4) + np.exp(V_Car_4))\n",
    "        P_Car_New = np.exp(V_Car_4)/(np.exp(V_Bus_4) + np.exp(V_Bike_4) + np.exp(V_Car_4))\n",
    "        P_Car_Congestion.append(P_Car_New)\n",
    "\n",
    "        #vflow for next iteration using weighted constant\n",
    "        Vflow4_new=0.15*(P_Car_New*1000)+0.85*Vflow4[-1]\n",
    "        Vflow4.append(Vflow4_new)\n",
    "\n",
    "\n",
    "        C_4_new = 1/miu * np.log(np.exp(V_Bus_4) + np.exp(V_Bike_4) + np.exp(V_Car_4))\n",
    "        C_4.append(C_4_new)\n",
    "        Delta_C_4.append((C_4-C_base)*1000)\n",
    "\n",
    "\n",
    "        Delta_4.append(abs(TTv_4_new-TTv_4[i]))\n",
    "        if Delta_4[i]<0.0001:\n",
    "            break\n",
    "    #print(Vflow4)\n",
    "    #print(TTv_4)\n",
    "    \n",
    "    \n",
    "    \n",
    "    It_Count_4.append(i+1)\n",
    "    TT_4.append(TTv_4[-1])\n",
    "    Vflow4_final.append(Vflow4[-1])\n",
    "    C_4_final.append(C_4[-1])\n",
    "    P_Car_Congestion_final.append(P_Car_Congestion[-1])"
   ]
  },
  {
   "cell_type": "code",
   "execution_count": 22,
   "id": "8e701c34",
   "metadata": {},
   "outputs": [
    {
     "data": {
      "text/plain": [
       "[12, 12, 15, 16, 16, 18, 20, 22, 23, 23, 22]"
      ]
     },
     "execution_count": 22,
     "metadata": {},
     "output_type": "execute_result"
    }
   ],
   "source": [
    "It_Count_4"
   ]
  },
  {
   "cell_type": "code",
   "execution_count": 23,
   "id": "bd93062e",
   "metadata": {
    "scrolled": true
   },
   "outputs": [
    {
     "data": {
      "text/plain": [
       "[242.9521707704309,\n",
       " 245.36052513029819,\n",
       " 247.5908658411827,\n",
       " 249.64775212042497,\n",
       " 251.53674148643907,\n",
       " 253.26356882975537,\n",
       " 254.83428213586143,\n",
       " 256.2559468641275,\n",
       " 257.53610398875816,\n",
       " 258.68340004380923,\n",
       " 259.706792151633]"
      ]
     },
     "execution_count": 23,
     "metadata": {},
     "output_type": "execute_result"
    }
   ],
   "source": [
    "Vflow4_final"
   ]
  },
  {
   "cell_type": "code",
   "execution_count": 24,
   "id": "08031d67",
   "metadata": {},
   "outputs": [
    {
     "data": {
      "text/plain": [
       "[26.532562351529037,\n",
       " 26.79550535219832,\n",
       " 27.045934950215955,\n",
       " 27.28305364716311,\n",
       " 27.50599537512834,\n",
       " 27.714185688414926,\n",
       " 27.907334604447094,\n",
       " 28.085281089459873,\n",
       " 28.248137813366224,\n",
       " 28.396115680637077,\n",
       " 28.529668416661508]"
      ]
     },
     "execution_count": 24,
     "metadata": {},
     "output_type": "execute_result"
    }
   ],
   "source": [
    "TT_4"
   ]
  },
  {
   "cell_type": "code",
   "execution_count": 25,
   "id": "d97b820a",
   "metadata": {},
   "outputs": [
    {
     "data": {
      "text/plain": [
       "[0.24295283942638762,\n",
       " 0.24535915096687966,\n",
       " 0.2475917680250423,\n",
       " 0.24964645144162123,\n",
       " 0.25153567638759033,\n",
       " 0.2532652814486311,\n",
       " 0.25483641301691545,\n",
       " 0.2562575852497359,\n",
       " 0.2575342969071375,\n",
       " 0.2586809534278846,\n",
       " 0.2597087873665361]"
      ]
     },
     "execution_count": 25,
     "metadata": {},
     "output_type": "execute_result"
    }
   ],
   "source": [
    "P_Car_Congestion_final"
   ]
  },
  {
   "cell_type": "code",
   "execution_count": 26,
   "id": "f4910dc4",
   "metadata": {},
   "outputs": [
    {
     "data": {
      "text/plain": [
       "[3019.5272295133436,\n",
       " 2343.883149199499,\n",
       " 1702.410484513365,\n",
       " 1096.9522504476004,\n",
       " 529.1137213389874,\n",
       " 0.0,\n",
       " -489.82207256116794,\n",
       " -940.2539472795866,\n",
       " -1351.7526518783711,\n",
       " -1725.2066987643816,\n",
       " -2061.9855323781735]"
      ]
     },
     "execution_count": 26,
     "metadata": {},
     "output_type": "execute_result"
    }
   ],
   "source": [
    "Aggregate_Delta_C_4=[]\n",
    "for x in fares:\n",
    "    Aggregate_Delta_C_4.append((C_4_final[x]-C_4_final[5])*1000)\n",
    "\n",
    "Aggregate_Delta_C_4"
   ]
  },
  {
   "cell_type": "code",
   "execution_count": 27,
   "id": "92d6a13b",
   "metadata": {},
   "outputs": [],
   "source": [
    "#6 buses per hour\n",
    "IVTT_bus = 25\n",
    "AT_bus=5\n",
    "WT_bus=5 #freq =6\n",
    "TT_Car=25\n",
    "PT_Car=2\n",
    "TC_Car=3\n",
    "PC_Car=5\n",
    "TT_Bike=35\n",
    "C_Bike=2.5\n",
    "\n",
    "tf0=1/3\n",
    "K=200\n",
    "#initialise the market share of cars, bike and buses no congestion\n",
    "\n",
    "P_Bus_No_Congestion=[]\n",
    "P_Car_No_Congestion=[]\n",
    "P_Bike_No_Congestion=[]\n",
    "\n",
    "fares=list(range(11))\n",
    "\n",
    "\n",
    "for x in fares:\n",
    "    V_Bus=ASC_Bus+Beta_bus_IVT*IVTT_bus+Beta_bus_TA *AT_bus +  Beta_bus_WT * WT_bus  + Beta_bus_Cost *x\n",
    "    \n",
    "    P_Bus = (np.exp(V_Bus)/(np.exp(V_Bus)+np.exp(V_Bike)+np.exp(V_Car)))\n",
    "    P_Bus_No_Congestion.append(P_Bus)\n",
    "    P_Bike = (np.exp(V_Bike)/(np.exp(V_Bus)+np.exp(V_Bike)+np.exp(V_Car)))\n",
    "    P_Bike_No_Congestion.append(P_Bike)\n",
    "    P_Car = (np.exp(V_Car)/(np.exp(V_Bus)+np.exp(V_Bike)+np.exp(V_Car)))\n",
    "    P_Car_No_Congestion.append(P_Car)\n",
    "\n",
    "It_Count_6=[]\n",
    "TT_6=[]\n",
    "Vflow6_final=[]\n",
    "C_6_final=[]\n",
    "P_Car_Congestion_final=[]\n",
    "\n",
    "\n",
    "\n",
    "for k in fares:\n",
    "\n",
    "    Vflow6=[]\n",
    "    Vflow6.append(P_Car_No_Congestion[k]*1000)\n",
    "\n",
    "    TTv_6=[0]\n",
    "    Delta_C_6=[]\n",
    "    P_Car_Congestion=[]\n",
    "    C_6=[]\n",
    "    Delta_6=[] \n",
    "\n",
    "    \n",
    "    V_Bus_6=ASC_Bus+Beta_bus_IVT*IVTT_bus+Beta_bus_TA *AT_bus +  Beta_bus_WT * WT_bus  + Beta_bus_Cost *k\n",
    "    V_Bike_6= Beta_BS_TT * TT_Bike + Beta_BS_Cost * C_Bike\n",
    "\n",
    "\n",
    "    for i in range(1000):\n",
    "        \n",
    "        TTv_6_new=tf0*(1+0.15*(Vflow6[-1]/K)**4)*60\n",
    "        TTv_6.append(TTv_6_new) \n",
    "\n",
    "        V_Car_6=ASC_Car +  Beta_Car_TT * TTv_6[-1] +  Beta_Car_PT * PT_Car  + Beta_Car_Cost * TC_Car + Beta_Car_PCost * PC_Car\n",
    "\n",
    "\n",
    "        P_Bus_Congestion = np.exp(V_Bus_6)/(np.exp(V_Bus_6) + np.exp(V_Bike_6) + np.exp(V_Car_6))\n",
    "        P_Bike_Congestion = np.exp(V_Bike_6)/(np.exp(V_Bus_6) + np.exp(V_Bike_6) + np.exp(V_Car_6))\n",
    "        P_Car_New = np.exp(V_Car_6)/(np.exp(V_Bus_6) + np.exp(V_Bike_6) + np.exp(V_Car_6))\n",
    "        P_Car_Congestion.append(P_Car_New)\n",
    "\n",
    "        #vflow for next iteration using weighted constant\n",
    "        Vflow6_new=0.15*(P_Car_New*1000)+0.85*Vflow6[-1]\n",
    "        Vflow6.append(Vflow6_new)\n",
    "\n",
    "\n",
    "        C_6_new = 1/miu * np.log(np.exp(V_Bus_6) + np.exp(V_Bike_6) + np.exp(V_Car_6))\n",
    "        C_6.append(C_6_new)\n",
    "        Delta_C_6.append((C_6-C_base)*1000)\n",
    "\n",
    "\n",
    "        Delta_6.append(abs(TTv_6_new-TTv_6[i]))\n",
    "        if Delta_6[i]<0.1:\n",
    "            break\n",
    "        \n",
    "    It_Count_6.append(i+1)\n",
    "    TT_6.append(TTv_6[-1])\n",
    "    Vflow6_final.append(Vflow6[-1])\n",
    "    C_6_final.append(C_6[-1])\n",
    "    P_Car_Congestion_final.append(P_Car_Congestion[-1])"
   ]
  },
  {
   "cell_type": "code",
   "execution_count": 28,
   "id": "e17b7780",
   "metadata": {},
   "outputs": [
    {
     "data": {
      "text/plain": [
       "[4, 4, 6, 6, 5, 8, 9, 8, 9, 10, 11]"
      ]
     },
     "execution_count": 28,
     "metadata": {},
     "output_type": "execute_result"
    }
   ],
   "source": [
    "It_Count_6"
   ]
  },
  {
   "cell_type": "code",
   "execution_count": 29,
   "id": "c5a6dedd",
   "metadata": {},
   "outputs": [
    {
     "data": {
      "text/plain": [
       "[233.89576379678167,\n",
       " 236.905085977114,\n",
       " 239.76383208284034,\n",
       " 242.43535638221732,\n",
       " 244.85475024822452,\n",
       " 247.0650096127504,\n",
       " 249.23707886499994,\n",
       " 251.05233623648996,\n",
       " 252.8298565403959,\n",
       " 254.60818752003675,\n",
       " 255.83770439972704]"
      ]
     },
     "execution_count": 29,
     "metadata": {},
     "output_type": "execute_result"
    }
   ],
   "source": [
    "Vflow6_final"
   ]
  },
  {
   "cell_type": "code",
   "execution_count": 30,
   "id": "c6eea2a6",
   "metadata": {},
   "outputs": [
    {
     "data": {
      "text/plain": [
       "[25.623098308473242,\n",
       " 25.921216698735783,\n",
       " 26.189293444428586,\n",
       " 26.451839650092257,\n",
       " 26.73002229159019,\n",
       " 27.003200965116726,\n",
       " 27.21969928902522,\n",
       " 27.477608696511737,\n",
       " 27.684165542023734,\n",
       " 27.83644564845374,\n",
       " 28.073543376294555]"
      ]
     },
     "execution_count": 30,
     "metadata": {},
     "output_type": "execute_result"
    }
   ],
   "source": [
    "TT_6"
   ]
  },
  {
   "cell_type": "code",
   "execution_count": 31,
   "id": "36eb273b",
   "metadata": {},
   "outputs": [
    {
     "data": {
      "text/plain": [
       "[0.23322038156558433,\n",
       " 0.23604536335225368,\n",
       " 0.24015082927153006,\n",
       " 0.2437803103647867,\n",
       " 0.245348990817995,\n",
       " 0.24621825481678053,\n",
       " 0.24999522955448217,\n",
       " 0.2496558691789345,\n",
       " 0.25177215651779866,\n",
       " 0.25657653658716006,\n",
       " 0.2539966122348202]"
      ]
     },
     "execution_count": 31,
     "metadata": {},
     "output_type": "execute_result"
    }
   ],
   "source": [
    "P_Car_Congestion_final"
   ]
  },
  {
   "cell_type": "code",
   "execution_count": 39,
   "id": "16118e84",
   "metadata": {},
   "outputs": [
    {
     "data": {
      "text/plain": [
       "[5398.176648253113,\n",
       " 4626.828008974556,\n",
       " 3893.793213643633,\n",
       " 3187.4741897684657,\n",
       " 2497.321466506577,\n",
       " 1836.5509687981926,\n",
       " 1236.5801704993657,\n",
       " 641.5996394400878,\n",
       " 106.54923048649323,\n",
       " -365.79661267468566,\n",
       " -858.355288028136]"
      ]
     },
     "execution_count": 39,
     "metadata": {},
     "output_type": "execute_result"
    }
   ],
   "source": [
    "Aggregate_Delta_C_6=[]\n",
    "for x in fares:\n",
    "    Aggregate_Delta_C_6.append((C_6_final[x]-C_4_final[5])*1000)\n",
    "\n",
    "Aggregate_Delta_C_6"
   ]
  },
  {
   "cell_type": "markdown",
   "id": "aa303f08",
   "metadata": {},
   "source": [
    "# Task 4"
   ]
  },
  {
   "cell_type": "markdown",
   "id": "35f1a078",
   "metadata": {},
   "source": [
    "### Task 4.1"
   ]
  },
  {
   "cell_type": "code",
   "execution_count": 33,
   "id": "99051849",
   "metadata": {},
   "outputs": [
    {
     "name": "stdout",
     "output_type": "stream",
     "text": [
      "When bus fare is £0,Capacity of 6 buses is not sufficient\n",
      "When bus fare is £1,Capacity of 6 buses is not sufficient\n",
      "When bus fare is £2,Capacity of 6 buses is not sufficient\n",
      "When bus fare is £3,Capacity of 6 buses is sufficient\n",
      "When bus fare is £4,Capacity of 6 buses is sufficient\n",
      "When bus fare is £5,Capacity of 6 buses is sufficient\n",
      "When bus fare is £6,Capacity of 6 buses is sufficient\n",
      "When bus fare is £7,Capacity of 6 buses is sufficient\n",
      "When bus fare is £8,Capacity of 6 buses is sufficient\n",
      "When bus fare is £9,Capacity of 6 buses is sufficient\n",
      "When bus fare is £10,Capacity of 6 buses is sufficient\n"
     ]
    }
   ],
   "source": [
    "WT_bus=7.5 # 4 bus/hr\n",
    "WT_bus=5 # 6 bus/hr\n",
    "\n",
    "diff_pi=[]\n",
    "diff_E=[]\n",
    "diff_W=[]\n",
    "\n",
    "# base case\n",
    "C_bus=5 \n",
    "TT_Car =  27.714185688414926\n",
    "V_Bus=ASC_Bus+Beta_bus_IVT*IVTT_bus+Beta_bus_TA *AT_bus +  Beta_bus_WT * WT_bus  + Beta_bus_Cost *C_bus\n",
    "V_Bike= Beta_BS_TT * TT_Bike + Beta_BS_Cost * C_Bike\n",
    "V_Car=ASC_Car +  Beta_Car_TT * TT_4[i] +  Beta_Car_PT * PT_Car  + Beta_Car_Cost * TC_Car + Beta_Car_PCost * PC_Car\n",
    "\n",
    "Vflow_Bus=1000*(np.exp(V_Bus)/(np.exp(V_Bus)+np.exp(V_Bike)+np.exp(V_Car)))\n",
    "Vflow_Car=1000*(np.exp(V_Car)/(np.exp(V_Bus)+np.exp(V_Bike)+np.exp(V_Car)))\n",
    "\n",
    "\n",
    "if WT_bus== 7.5:\n",
    "    C_op = 2000;\n",
    "    freq = 4;\n",
    "    CS=C_4_final[5]\n",
    "else:\n",
    "    C_op = 2500;\n",
    "    freq = 6;\n",
    "    CS=C_6_final[5]\n",
    "    \n",
    "pi_base = C_bus*Vflow_Bus - C_op;\n",
    "E_base =1*Vflow_Car+8*freq\n",
    "W_base =CS+1.6*pi_base-E_base\n",
    "    \n",
    "    \n",
    "    \n",
    "for i in fares:\n",
    "    V_Bus=ASC_Bus+Beta_bus_IVT*IVTT_bus+Beta_bus_TA *AT_bus +  Beta_bus_WT * WT_bus  + Beta_bus_Cost *i\n",
    "    V_Bike= Beta_BS_TT * TT_Bike + Beta_BS_Cost * C_Bike\n",
    "    V_Car=ASC_Car +  Beta_Car_TT * TT_4[i] +  Beta_Car_PT * PT_Car  + Beta_Car_Cost * TC_Car + Beta_Car_PCost * PC_Car\n",
    "\n",
    "    Vflow_Bus=1000*(np.exp(V_Bus)/(np.exp(V_Bus)+np.exp(V_Bike)+np.exp(V_Car)))\n",
    "    Vflow_Car=1000*(np.exp(V_Car)/(np.exp(V_Bus)+np.exp(V_Bike)+np.exp(V_Car)))\n",
    "    \n",
    "\n",
    "        \n",
    "        \n",
    "    if WT_bus== 7.5:\n",
    "        CS=C_4_final[i] # Consumer surplus for 4 bus/hr\n",
    "        C_op=2000 # Hourly operating cost for 4 bus/hr\n",
    "        freq=4\n",
    "    else:\n",
    "        CS=C_6_final[i] # Consumer surplus for 6 bus/hr\n",
    "        C_op=2500 # Hourly operating cost for 6 bus/hr\n",
    "        freq=6\n",
    "    \n",
    "    capacity = 100*freq\n",
    "    \n",
    "    if Vflow_Bus<capacity:\n",
    "        print('When bus fare is £'+str(i)+',Capacity of ' +str(freq)+ ' buses is sufficient')\n",
    "    else:\n",
    "        print('When bus fare is £'+str(i)+',Capacity of ' +str(freq)+ ' buses is not sufficient')\n",
    "        \n",
    "    pi=i*Vflow_Bus-C_op\n",
    "    E=1*Vflow_Car+8*freq\n",
    "    W=CS+1.6*pi-E\n",
    "    \n",
    "    diff_pi.append(pi-pi_base)\n",
    "    diff_E.append(E-E_base)\n",
    "    diff_W.append(W-W_base)\n",
    "    \n",
    "    "
   ]
  },
  {
   "cell_type": "code",
   "execution_count": 34,
   "id": "c5441b39",
   "metadata": {},
   "outputs": [
    {
     "data": {
      "text/plain": [
       "[-2746.5378937761207,\n",
       " -2107.5568770995756,\n",
       " -1522.9219189626467,\n",
       " -998.1103511533252,\n",
       " -537.9518782437249,\n",
       " -146.2458794373415,\n",
       " 174.58778221018383,\n",
       " 423.7477941669363,\n",
       " 602.2452070120726,\n",
       " 712.8950826825203,\n",
       " 760.2479861278321]"
      ]
     },
     "execution_count": 34,
     "metadata": {},
     "output_type": "execute_result"
    }
   ],
   "source": [
    "diff_pi"
   ]
  },
  {
   "cell_type": "code",
   "execution_count": 35,
   "id": "8ec9c3f5",
   "metadata": {},
   "outputs": [
    {
     "data": {
      "text/plain": [
       "[22.595249519911135,\n",
       " 26.878791601449024,\n",
       " 31.276710511325064,\n",
       " 35.7749176290142,\n",
       " 40.364715177946465,\n",
       " 45.02367056991312,\n",
       " 49.71724198066153,\n",
       " 54.40998954796203,\n",
       " 59.058577212863156,\n",
       " 63.62446220451204,\n",
       " 68.06608899198324]"
      ]
     },
     "execution_count": 35,
     "metadata": {},
     "output_type": "execute_result"
    }
   ],
   "source": [
    "diff_E"
   ]
  },
  {
   "cell_type": "code",
   "execution_count": 36,
   "id": "a33954fe",
   "metadata": {},
   "outputs": [
    {
     "data": {
      "text/plain": [
       "[-4413.494253882249,\n",
       " -3396.1795179205938,\n",
       " -2465.8945386067144,\n",
       " -1631.4005562533644,\n",
       " -900.4269498701979,\n",
       " -279.01707766965956,\n",
       " 229.0232387573338,\n",
       " 622.391529789778,\n",
       " 902.8037522681412,\n",
       " 1074.8053225060478,\n",
       " 1145.6357825557216]"
      ]
     },
     "execution_count": 36,
     "metadata": {},
     "output_type": "execute_result"
    }
   ],
   "source": [
    "diff_W"
   ]
  },
  {
   "cell_type": "code",
   "execution_count": 37,
   "id": "aa905eb9",
   "metadata": {},
   "outputs": [
    {
     "data": {
      "text/plain": [
       "93.73439326126345"
      ]
     },
     "execution_count": 37,
     "metadata": {},
     "output_type": "execute_result"
    }
   ],
   "source": [
    "W_base"
   ]
  },
  {
   "cell_type": "code",
   "execution_count": null,
   "id": "573d7313",
   "metadata": {},
   "outputs": [],
   "source": []
  },
  {
   "cell_type": "code",
   "execution_count": null,
   "id": "797473f0",
   "metadata": {},
   "outputs": [],
   "source": []
  }
 ],
 "metadata": {
  "kernelspec": {
   "display_name": "Python 3 (ipykernel)",
   "language": "python",
   "name": "python3"
  },
  "language_info": {
   "codemirror_mode": {
    "name": "ipython",
    "version": 3
   },
   "file_extension": ".py",
   "mimetype": "text/x-python",
   "name": "python",
   "nbconvert_exporter": "python",
   "pygments_lexer": "ipython3",
   "version": "3.9.12"
  }
 },
 "nbformat": 4,
 "nbformat_minor": 5
}
